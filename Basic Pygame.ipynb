{
 "cells": [
  {
   "cell_type": "markdown",
   "id": "f73f7fff",
   "metadata": {},
   "source": [
    "# Basic Pygame\n",
    "The previous games we have made (mad libs, choose your own adventure, number guessing, rock paper scissors, word guessing) are all text-based. Outputs are seen in the **terminal** in these types of programs. We call the user interface of these applications **command line interface**.\n",
    "\n",
    "Today, we will start learning about Pygame, a set of Python modules designed for writing graphical video games. Pygame allows us to create **graphical user interface**, where images, colors, buttons, etc can be displayed onto a window that the player can interact with directly."
   ]
  },
  {
   "cell_type": "markdown",
   "id": "1e846930",
   "metadata": {},
   "source": [
    "## Importing `pygame`\n",
    "Because `pygame` is not part of the Python standard installation, we need to `import` the `pygame` library before we can use it."
   ]
  },
  {
   "cell_type": "code",
   "execution_count": 1,
   "id": "221a06d3",
   "metadata": {
    "scrolled": true
   },
   "outputs": [
    {
     "name": "stdout",
     "output_type": "stream",
     "text": [
      "pygame 2.0.1 (SDL 2.0.14, Python 3.9.6)\n",
      "Hello from the pygame community. https://www.pygame.org/contribute.html\n"
     ]
    }
   ],
   "source": [
    "import pygame"
   ]
  },
  {
   "cell_type": "markdown",
   "id": "e6810c12",
   "metadata": {},
   "source": [
    "## A Basic `pygame`\n",
    "Below, we will create a basic `pygame`.\n",
    "\n",
    "---\n",
    "We `import` the `pygame` library and initialize the modules in the library.\n",
    "```py\n",
    "import pygame\n",
    "pygame.init()\n",
    "```\n",
    "---\n",
    "We will display graphics on a window. Here's how we create this \"surface\".\n",
    "```py\n",
    "window = pygame.display.set_mode((width, height))\n",
    "# 640 by 480 window\n",
    "window = pygame.display.set_mode((640, 480))\n",
    "```\n",
    "*Notice that there are 2 pairs of parentheses.*\n",
    "\n",
    "---\n",
    "Let's also set the name of the window like below:\n",
    "```py\n",
    "pygame.display.set_caption(\"Basic pygame\")\n",
    "```\n",
    "---\n",
    "Now the fun part. We want to continuously refresh/update the screen. For this, we will use a `while` loop that keeps updating the window. In the loop, we will check if the ✕ button is clicked. If it is, we quit `pygame` and break out of the loop.\n",
    "```py\n",
    "while True:\n",
    "    for event in pygame.event.get():\n",
    "        # Break loop if the exit button is pressed\n",
    "        if event.type == pygame.QUIT:\n",
    "            pygame.quit()\n",
    "            break\n",
    "    pygame.display.update()\n",
    "```\n",
    "This is the event loop of our game, where **events** (button presses, mouse clicks, etc) are detected and handled."
   ]
  },
  {
   "cell_type": "code",
   "execution_count": null,
   "id": "852e4031",
   "metadata": {
    "scrolled": true
   },
   "outputs": [],
   "source": [
    "import pygame\n",
    "pygame.init()\n",
    "\n",
    "window = pygame.display.set_mode((640, 480))\n",
    "pygame.display.set_caption(\"Basic pygame\")\n",
    "\n",
    "while True:\n",
    "    for event in pygame.event.get():\n",
    "        # Break loop if the exit button is pressed\n",
    "        if event.type == pygame.QUIT:\n",
    "            pygame.quit()\n",
    "            break\n",
    "    pygame.display.update()"
   ]
  },
  {
   "cell_type": "markdown",
   "id": "6b05dc55",
   "metadata": {},
   "source": [
    "## Colors\n",
    "To display shapes, buttons, and graphics on the screen, we'll need to understand how computers \"see\" colors.\n",
    "\n",
    "You may have heard of the color model `RGB`. `RGB` stands for red, green and blue. Computers represent a color with 3 numbers `(RED, GREEN, BLUE)`. From this `tuple`, we can see how *red*, how *green*, and how *blue* a color is. Each base color is represented by a number between 0 and 255.\n",
    "\n",
    "Here are some examples of RGB colors:\n",
    "* `(0,   0,   0  )`: ⚫\n",
    "* `(255, 255, 255)`: ⚪\n",
    "* `(255, 0  , 0  )`: 🔴\n",
    "* `(0  , 255, 0  )`: 🟢\n",
    "* `(0  , 0  , 255)`: 🔵\n",
    "* `(246, 87 , 0  )`: 🟠\n",
    "* `(142, 86 , 46 )`: 🟤\n",
    "* `(255, 241, 0  )`: 🟡\n",
    "\n",
    "It can be convenient to include these variables at the top of a `pygame` program:\n",
    "```py\n",
    "BLACK = (0, 0, 0)\n",
    "GRAY = (127, 127, 127)\n",
    "WHITE = (255, 255, 255)\n",
    "RED = (255, 0, 0)\n",
    "GREEN = (0, 255, 0)\n",
    "BLUE = (0, 0, 255)\n",
    "YELLOW = (255, 255, 0)\n",
    "CYAN = (0, 255, 255)\n",
    "MAGENTA = (255, 0, 255)\n",
    "```\n",
    "Now we can use these variables to access color values in the rest of our program."
   ]
  },
  {
   "cell_type": "markdown",
   "id": "bc493765",
   "metadata": {},
   "source": [
    "### Background color\n",
    "When we want to fill a window with a color, we can write:\n",
    "```py\n",
    "window.fill(WHATEVER_COLOR_YOU_WANT)\n",
    "```\n",
    "This should be called before `pygame.display.update()`."
   ]
  },
  {
   "cell_type": "code",
   "execution_count": null,
   "id": "54659bbf",
   "metadata": {},
   "outputs": [],
   "source": [
    "import pygame\n",
    "pygame.init()\n",
    "\n",
    "BLACK = (0, 0, 0)\n",
    "GRAY = (127, 127, 127)\n",
    "WHITE = (255, 255, 255)\n",
    "RED = (255, 0, 0)\n",
    "GREEN = (0, 255, 0)\n",
    "BLUE = (0, 0, 255)\n",
    "YELLOW = (255, 255, 0)\n",
    "CYAN = (0, 255, 255)\n",
    "MAGENTA = (255, 0, 255)\n",
    "\n",
    "window = pygame.display.set_mode((640, 480))\n",
    "pygame.display.set_caption(\"Basic pygame\")\n",
    "\n",
    "while True:\n",
    "    for event in pygame.event.get():\n",
    "        if event.type == pygame.QUIT:\n",
    "            pygame.quit()\n",
    "            break\n",
    "    window.fill(GREEN)\n",
    "    pygame.display.update()"
   ]
  },
  {
   "cell_type": "markdown",
   "id": "3a187f6b",
   "metadata": {},
   "source": [
    "### Switching background color\n",
    "Let's change our program to switch background color when some key is pressed.\n",
    "\n",
    "How do we detect key presses? In the event loop, we check the `event`s that `pygame` detected.\n",
    "* If the `event`'s type is `pygame.QUIT`, we exit the program.\n",
    "* If the `event`'s type is `pygame.KEYDOWN`, we check the `event`'s key:\n",
    "    * In this program, if the `event`'s key is `pygame.K_SPACE`, we switch the color of the background."
   ]
  },
  {
   "cell_type": "code",
   "execution_count": null,
   "id": "7e6673cc",
   "metadata": {},
   "outputs": [],
   "source": [
    "import pygame\n",
    "pygame.init()\n",
    "\n",
    "BLACK = (0, 0, 0)\n",
    "GRAY = (127, 127, 127)\n",
    "WHITE = (255, 255, 255)\n",
    "RED = (255, 0, 0)\n",
    "GREEN = (0, 255, 0)\n",
    "BLUE = (0, 0, 255)\n",
    "YELLOW = (255, 255, 0)\n",
    "CYAN = (0, 255, 255)\n",
    "MAGENTA = (255, 0, 255)\n",
    "\n",
    "COLORS = [BLACK, GRAY, WHITE, RED, GREEN, YELLOW, CYAN, MAGENTA]\n",
    "i = 0\n",
    "\n",
    "window = pygame.display.set_mode((640, 480))\n",
    "pygame.display.set_caption(\"Basic pygame\")\n",
    "\n",
    "while True:\n",
    "    for event in pygame.event.get():\n",
    "        if event.type == pygame.QUIT:\n",
    "            pygame.quit()\n",
    "            break\n",
    "        if event.type == pygame.KEYDOWN:\n",
    "            if event.key == pygame.K_SPACE:\n",
    "                i += 1\n",
    "\n",
    "    window.fill(COLORS[i % len(COLORS)])\n",
    "    pygame.display.update()"
   ]
  }
 ],
 "metadata": {
  "kernelspec": {
   "display_name": "Python 3 (ipykernel)",
   "language": "python",
   "name": "python3"
  },
  "language_info": {
   "codemirror_mode": {
    "name": "ipython",
    "version": 3
   },
   "file_extension": ".py",
   "mimetype": "text/x-python",
   "name": "python",
   "nbconvert_exporter": "python",
   "pygments_lexer": "ipython3",
   "version": "3.9.6"
  }
 },
 "nbformat": 4,
 "nbformat_minor": 5
}
