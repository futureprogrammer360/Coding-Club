{
 "cells": [
  {
   "cell_type": "markdown",
   "id": "f509d9a2",
   "metadata": {},
   "source": [
    "# Flying Pie\n",
    "Pygame... Pie-Game. Hmm, I wonder if we can make a flying pie 🥧 in Pygame. Let's try!"
   ]
  },
  {
   "cell_type": "markdown",
   "id": "654c97d6",
   "metadata": {},
   "source": [
    "Here's the program we created before. It pops out a window, which continuously refreshes its black background."
   ]
  },
  {
   "cell_type": "code",
   "execution_count": null,
   "id": "4a90debb",
   "metadata": {},
   "outputs": [],
   "source": [
    "import pygame\n",
    "pygame.init()\n",
    "\n",
    "BLACK = (0, 0, 0)\n",
    "\n",
    "window = pygame.display.set_mode((640, 480))\n",
    "pygame.display.set_caption(\"Literally nothing but a window\")\n",
    "\n",
    "while True:\n",
    "    for event in pygame.event.get():\n",
    "        if event.type == pygame.QUIT:\n",
    "            pygame.quit()\n",
    "            break\n",
    "    window.fill(BLACK)\n",
    "    pygame.display.update()"
   ]
  },
  {
   "cell_type": "markdown",
   "id": "6d27d774",
   "metadata": {},
   "source": [
    "Now let's add a pie. To start off, let's make a square pie. After we fill the window's background with black, we want to draw a square on top of it.\n",
    "\n",
    "Drawing a square in Pygame is as follows:\n",
    "```py\n",
    "pygame.draw.rect(surface, color, (left, top, width, height))\n",
    "```\n",
    "So if we want to draw a red square at `(0, 0)` that's 50 pixels wide and 50 pixels tall, we can write...\n",
    "```py\n",
    "pygame.draw.rect(window, RED, (0, 0, 50, 50))\n",
    "```"
   ]
  },
  {
   "cell_type": "code",
   "execution_count": null,
   "id": "e4a78f05",
   "metadata": {
    "scrolled": true
   },
   "outputs": [],
   "source": [
    "import pygame\n",
    "pygame.init()\n",
    "\n",
    "BLACK = (0, 0, 0)\n",
    "RED = (255, 0, 0)\n",
    "\n",
    "window = pygame.display.set_mode((640, 480))\n",
    "pygame.display.set_caption(\"Square Pie\")\n",
    "\n",
    "while True:\n",
    "    for event in pygame.event.get():\n",
    "        if event.type == pygame.QUIT:\n",
    "            pygame.quit()\n",
    "            break\n",
    "    window.fill(BLACK)\n",
    "    \n",
    "    # NEW CODE\n",
    "    pygame.draw.rect(window, RED, (0, 0, 50, 50))\n",
    "    \n",
    "    pygame.display.update()"
   ]
  },
  {
   "cell_type": "markdown",
   "id": "1d4dbc5d",
   "metadata": {},
   "source": [
    "But, we want a moving pie! How do we change the position of the pie? We can use variables to keep track of the pie's position and change them. We will use the variables to draw the pie so the changes are reflected in the window."
   ]
  },
  {
   "cell_type": "code",
   "execution_count": null,
   "id": "25bff116",
   "metadata": {},
   "outputs": [],
   "source": [
    "import pygame\n",
    "pygame.init()\n",
    "\n",
    "BLACK = (0, 0, 0)\n",
    "RED = (255, 0, 0)\n",
    "\n",
    "window = pygame.display.set_mode((640, 480))\n",
    "pygame.display.set_caption(\"Horizontally Flying Pie\")\n",
    "\n",
    "# NEW CODE - define the initial position of the pie\n",
    "x = 0\n",
    "y = 215\n",
    "\n",
    "while True:\n",
    "    for event in pygame.event.get():\n",
    "        if event.type == pygame.QUIT:\n",
    "            pygame.quit()\n",
    "            break\n",
    "        # NEW CODE - checking for key presses\n",
    "        if event.type == pygame.KEYDOWN:\n",
    "            if event.key == pygame.K_LEFT:\n",
    "                x -= 10\n",
    "            if event.key == pygame.K_RIGHT:\n",
    "                x += 10\n",
    "\n",
    "    window.fill(BLACK)\n",
    "    # CODE CHANGED - using variables now\n",
    "    pygame.draw.rect(window, RED, (x, y, 50, 50))\n",
    "    pygame.display.update()"
   ]
  },
  {
   "cell_type": "markdown",
   "id": "153bdc21",
   "metadata": {},
   "source": [
    "Now try to add the code needed to make the pie move up and down! That's how pies are usually thrown after all."
   ]
  },
  {
   "cell_type": "code",
   "execution_count": null,
   "id": "c21b7665",
   "metadata": {},
   "outputs": [],
   "source": [
    "import pygame\n",
    "pygame.init()\n",
    "\n",
    "BLACK = (0, 0, 0)\n",
    "RED = (255, 0, 0)\n",
    "\n",
    "window = pygame.display.set_mode((640, 480))\n",
    "pygame.display.set_caption(\"Flying Pie\")\n",
    "\n",
    "x = 295\n",
    "y = 215\n",
    "\n",
    "while True:\n",
    "    for event in pygame.event.get():\n",
    "        if event.type == pygame.QUIT:\n",
    "            pygame.quit()\n",
    "            break\n",
    "        if event.type == pygame.KEYDOWN:\n",
    "            if event.key == pygame.K_LEFT:\n",
    "                x -= 10\n",
    "            if event.key == pygame.K_RIGHT:\n",
    "                x += 10\n",
    "            # NEW CODE\n",
    "            if event.key == pygame.K_UP:\n",
    "                y -= 10\n",
    "            if event.key == pygame.K_DOWN:\n",
    "                y += 10\n",
    "\n",
    "    window.fill(BLACK)\n",
    "    pygame.draw.rect(window, RED, (x, y, 50, 50))\n",
    "    pygame.display.update()"
   ]
  },
  {
   "cell_type": "markdown",
   "id": "22f36715",
   "metadata": {},
   "source": [
    "We're in a small room, pies flying everywhere... we want to make sure they don't fly out of the room!\n",
    "\n",
    "To do that, we should change the `x` and `y` values only if doing so won't move the pie out of the window.\n",
    "\n",
    "Now's a good time to learn about the `and` operator. If we want to check if two conditions are both `True`, we can write `a and b`. If both are `True`, we get `True`. Otherwise, we get `False`.\n",
    "\n",
    "In this case, we want to check if the player has pressed the button `and` moving the pie won't break the walls."
   ]
  },
  {
   "cell_type": "code",
   "execution_count": null,
   "id": "bf7eab83",
   "metadata": {},
   "outputs": [],
   "source": [
    "import pygame\n",
    "pygame.init()\n",
    "\n",
    "BLACK = (0, 0, 0)\n",
    "RED = (255, 0, 0)\n",
    "\n",
    "window = pygame.display.set_mode((640, 480))\n",
    "pygame.display.set_caption(\"Flying Pie 2.0\")\n",
    "\n",
    "x = 295\n",
    "y = 215\n",
    "\n",
    "while True:\n",
    "    for event in pygame.event.get():\n",
    "        if event.type == pygame.QUIT:\n",
    "            pygame.quit()\n",
    "            break\n",
    "        if event.type == pygame.KEYDOWN:\n",
    "            # CODE MODIFIED - notice the things after and\n",
    "            if event.key == pygame.K_LEFT and x > 10:\n",
    "                x -= 10\n",
    "            if event.key == pygame.K_RIGHT and x < 640 - 10 - 50:\n",
    "                x += 10\n",
    "            if event.key == pygame.K_UP and y > 10:\n",
    "                y -= 10\n",
    "            if event.key == pygame.K_DOWN and y < 480 - 50 - 10:\n",
    "                y += 10\n",
    "\n",
    "    window.fill(BLACK)\n",
    "    pygame.draw.rect(window, RED, (x, y, 50, 50))\n",
    "    pygame.display.update()"
   ]
  },
  {
   "cell_type": "markdown",
   "id": "13fda2aa",
   "metadata": {},
   "source": [
    "Now our pie doesn't move out of the window!\n",
    "\n",
    "After creating this simple version of pie-throwing, think of ways to improve the \"game\"!\n",
    "\n",
    "Here are some ideas to think about:\n",
    "* Changing colors...\n",
    "* Changing speeds...\n",
    "* Cheat codes (strange keys producing interesting results)...\n",
    "* Different shapes...\n",
    "* Multiple pies\n",
    "\n",
    "Really, the things you learned today allow you to make many interesting games. Think about basic shooting games (in other words, a pie shooting more pies at other pies 😂).\n",
    "\n",
    "Remember, googling things is one of the most valuable skills of a programmer. It's **not** cheating!"
   ]
  }
 ],
 "metadata": {
  "kernelspec": {
   "display_name": "Python 3 (ipykernel)",
   "language": "python",
   "name": "python3"
  },
  "language_info": {
   "codemirror_mode": {
    "name": "ipython",
    "version": 3
   },
   "file_extension": ".py",
   "mimetype": "text/x-python",
   "name": "python",
   "nbconvert_exporter": "python",
   "pygments_lexer": "ipython3",
   "version": "3.9.6"
  }
 },
 "nbformat": 4,
 "nbformat_minor": 5
}
